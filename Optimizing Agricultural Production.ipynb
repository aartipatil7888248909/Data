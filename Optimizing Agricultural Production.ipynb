{
 "cells": [
  {
   "cell_type": "code",
   "execution_count": 1,
   "id": "bc6b77e4",
   "metadata": {},
   "outputs": [],
   "source": [
    "import numpy as np\n",
    "import pandas as pd\n",
    "import matplotlib.pyplot as plt\n",
    "import seaborn as sns\n",
    "from ipywidgets import interact"
   ]
  },
  {
   "cell_type": "code",
   "execution_count": 2,
   "id": "f148bb68",
   "metadata": {},
   "outputs": [],
   "source": [
    "data = pd.read_csv('C:\\\\Users\\\\aarti\\\\OneDrive\\\\Documents\\\\My Achievement\\\\Python project1\\\\data.csv')"
   ]
  },
  {
   "cell_type": "code",
   "execution_count": 3,
   "id": "10200c1c",
   "metadata": {},
   "outputs": [
    {
     "name": "stdout",
     "output_type": "stream",
     "text": [
      "Shape of the Dataset : (2200, 8)\n"
     ]
    }
   ],
   "source": [
    "print(\"Shape of the Dataset :\",data.shape)"
   ]
  },
  {
   "cell_type": "code",
   "execution_count": 4,
   "id": "5f67f227",
   "metadata": {},
   "outputs": [
    {
     "data": {
      "text/html": [
       "<div>\n",
       "<style scoped>\n",
       "    .dataframe tbody tr th:only-of-type {\n",
       "        vertical-align: middle;\n",
       "    }\n",
       "\n",
       "    .dataframe tbody tr th {\n",
       "        vertical-align: top;\n",
       "    }\n",
       "\n",
       "    .dataframe thead th {\n",
       "        text-align: right;\n",
       "    }\n",
       "</style>\n",
       "<table border=\"1\" class=\"dataframe\">\n",
       "  <thead>\n",
       "    <tr style=\"text-align: right;\">\n",
       "      <th></th>\n",
       "      <th>N</th>\n",
       "      <th>P</th>\n",
       "      <th>K</th>\n",
       "      <th>temperature</th>\n",
       "      <th>humidity</th>\n",
       "      <th>ph</th>\n",
       "      <th>rainfall</th>\n",
       "      <th>label</th>\n",
       "    </tr>\n",
       "  </thead>\n",
       "  <tbody>\n",
       "    <tr>\n",
       "      <th>0</th>\n",
       "      <td>90</td>\n",
       "      <td>42</td>\n",
       "      <td>43</td>\n",
       "      <td>20.879744</td>\n",
       "      <td>82.002744</td>\n",
       "      <td>6.502985</td>\n",
       "      <td>202.935536</td>\n",
       "      <td>rice</td>\n",
       "    </tr>\n",
       "    <tr>\n",
       "      <th>1</th>\n",
       "      <td>85</td>\n",
       "      <td>58</td>\n",
       "      <td>41</td>\n",
       "      <td>21.770462</td>\n",
       "      <td>80.319644</td>\n",
       "      <td>7.038096</td>\n",
       "      <td>226.655537</td>\n",
       "      <td>rice</td>\n",
       "    </tr>\n",
       "    <tr>\n",
       "      <th>2</th>\n",
       "      <td>60</td>\n",
       "      <td>55</td>\n",
       "      <td>44</td>\n",
       "      <td>23.004459</td>\n",
       "      <td>82.320763</td>\n",
       "      <td>7.840207</td>\n",
       "      <td>263.964248</td>\n",
       "      <td>rice</td>\n",
       "    </tr>\n",
       "    <tr>\n",
       "      <th>3</th>\n",
       "      <td>74</td>\n",
       "      <td>35</td>\n",
       "      <td>40</td>\n",
       "      <td>26.491096</td>\n",
       "      <td>80.158363</td>\n",
       "      <td>6.980401</td>\n",
       "      <td>242.864034</td>\n",
       "      <td>rice</td>\n",
       "    </tr>\n",
       "    <tr>\n",
       "      <th>4</th>\n",
       "      <td>78</td>\n",
       "      <td>42</td>\n",
       "      <td>42</td>\n",
       "      <td>20.130175</td>\n",
       "      <td>81.604873</td>\n",
       "      <td>7.628473</td>\n",
       "      <td>262.717340</td>\n",
       "      <td>rice</td>\n",
       "    </tr>\n",
       "  </tbody>\n",
       "</table>\n",
       "</div>"
      ],
      "text/plain": [
       "    N   P   K  temperature   humidity        ph    rainfall label\n",
       "0  90  42  43    20.879744  82.002744  6.502985  202.935536  rice\n",
       "1  85  58  41    21.770462  80.319644  7.038096  226.655537  rice\n",
       "2  60  55  44    23.004459  82.320763  7.840207  263.964248  rice\n",
       "3  74  35  40    26.491096  80.158363  6.980401  242.864034  rice\n",
       "4  78  42  42    20.130175  81.604873  7.628473  262.717340  rice"
      ]
     },
     "execution_count": 4,
     "metadata": {},
     "output_type": "execute_result"
    }
   ],
   "source": [
    "data.head()"
   ]
  },
  {
   "cell_type": "code",
   "execution_count": 5,
   "id": "421c6523",
   "metadata": {},
   "outputs": [
    {
     "data": {
      "text/plain": [
       "N              0\n",
       "P              0\n",
       "K              0\n",
       "temperature    0\n",
       "humidity       0\n",
       "ph             0\n",
       "rainfall       0\n",
       "label          0\n",
       "dtype: int64"
      ]
     },
     "execution_count": 5,
     "metadata": {},
     "output_type": "execute_result"
    }
   ],
   "source": [
    "data.isnull().sum()"
   ]
  },
  {
   "cell_type": "code",
   "execution_count": 6,
   "id": "5f0a887d",
   "metadata": {},
   "outputs": [
    {
     "data": {
      "text/plain": [
       "rice           100\n",
       "maize          100\n",
       "jute           100\n",
       "cotton         100\n",
       "coconut        100\n",
       "papaya         100\n",
       "orange         100\n",
       "apple          100\n",
       "muskmelon      100\n",
       "watermelon     100\n",
       "grapes         100\n",
       "mango          100\n",
       "banana         100\n",
       "pomegranate    100\n",
       "lentil         100\n",
       "blackgram      100\n",
       "mungbean       100\n",
       "mothbeans      100\n",
       "pigeonpeas     100\n",
       "kidneybeans    100\n",
       "chickpea       100\n",
       "coffee         100\n",
       "Name: label, dtype: int64"
      ]
     },
     "execution_count": 6,
     "metadata": {},
     "output_type": "execute_result"
    }
   ],
   "source": [
    "data['label'].value_counts()"
   ]
  },
  {
   "cell_type": "code",
   "execution_count": 7,
   "id": "4f6256ed",
   "metadata": {},
   "outputs": [
    {
     "name": "stdout",
     "output_type": "stream",
     "text": [
      "Average Ratio of Nitrogen in the soil : (0:2f)\n",
      "Average Ratio of Phosphorous in the soil : (0:2f)\n",
      "Average Ratio of Potassium in the soil : (0:2f)\n",
      "Average Ratio of Celsius in the soil : (0:2f)\n",
      "Average Relative Humidity in %  : (0:2f)\n",
      "Average PH value of the soil : (0:2f)\n",
      "Average Rainfall in mm soil : (0:2f)\n"
     ]
    }
   ],
   "source": [
    "print(\"Average Ratio of Nitrogen in the soil : (0:2f)\".format(data['N'].mean()))\n",
    "print(\"Average Ratio of Phosphorous in the soil : (0:2f)\".format(data['P'].mean()))\n",
    "print(\"Average Ratio of Potassium in the soil : (0:2f)\".format(data['K'].mean()))\n",
    "print(\"Average Ratio of Celsius in the soil : (0:2f)\".format(data['temperature'].mean()))\n",
    "      \n",
    "print(\"Average Relative Humidity in %  : (0:2f)\".format(data['humidity'].mean()))\n",
    "print(\"Average PH value of the soil : (0:2f)\".format(data['ph'].mean()))\n",
    "print(\"Average Rainfall in mm soil : (0:2f)\".format(data['rainfall'].mean()))\n"
   ]
  },
  {
   "cell_type": "code",
   "execution_count": 8,
   "id": "61f5f905",
   "metadata": {},
   "outputs": [
    {
     "data": {
      "application/vnd.jupyter.widget-view+json": {
       "model_id": "5dedb6e974eb4220968656b05a67aea9",
       "version_major": 2,
       "version_minor": 0
      },
      "text/plain": [
       "interactive(children=(Dropdown(description='crops', options=('rice', 'maize', 'jute', 'cotton', 'coconut', 'pa…"
      ]
     },
     "metadata": {},
     "output_type": "display_data"
    }
   ],
   "source": [
    "@interact\n",
    "def summary(crops = list(data['label'].value_counts().index)):\n",
    "    x = data[data['label']==crops]\n",
    "    print(\"____________________________________\")\n",
    "    print(\"Statics for Nitrogen\")\n",
    "    print(\"Minimum Nirogen required :\",x['N'].min())\n",
    "    print(\"Average Nirogen required :\",x['N'].mean())\n",
    "    print(\"maximum required :\",x['N'].max())\n",
    "    print(\"____________________________________\")\n",
    "    \n",
    "    print(\"Statics for Phosphorous\")\n",
    "    print(\"Minimum Phosphorous required :\",x['P'].min())\n",
    "    print(\"Average Phosphorous required :\",x['P'].mean())\n",
    "    print(\"maximum Phosphorous required :\",x['P'].max())\n",
    "    \n",
    "    print(\"____________________________________\")\n",
    "    print(\"Statics for Potassium\")\n",
    "    print(\"Minimum Potassium  required :\",x['K'].min())\n",
    "    print(\"Average Potassium  required :\",x['K'].mean())\n",
    "    print(\"maximum Potassium  required :\",x['K'].max())\n",
    "    \n",
    "    print(\"____________________________________\")\n",
    "    print(\"Statics for Temperature\")\n",
    "    print(\"Minimum Temperture required : {0:2f}\".format(x['temperature'].min()))\n",
    "    print(\"Average Temperture required : {0:2f}\".format(x['temperature'].mean()))\n",
    "    print(\"Maximum Temperture required : {0:2f}\".format(x['temperature'].max()))\n",
    "    \n",
    "    print(\"____________________________________\")\n",
    "    print(\"Statics for Humidity\")\n",
    "    print(\"Minimum Humidity required : {0:2f}\".format(x['humidity'].min()))\n",
    "    print(\"Average Humidity required : {0:2f}\".format(x['humidity'].mean()))\n",
    "    print(\"Maximum Humidityrequired : {0:2f}\".format(x['humidity'].max()))\n",
    "    \n",
    "    \n",
    "    print(\"____________________________________\")\n",
    "    print(\"Statics for PH\")\n",
    "    print(\"Minimum Humidity required : {0:2f}\".format(x['ph'].min()))\n",
    "    print(\"Average Humidity required : {0:2f}\".format(x['ph'].mean()))\n",
    "    print(\"Maximum Humidity required : {0:2f}\".format(x['ph'].max()))\n",
    "    \n",
    "    print(\"____________________________________\")\n",
    "    print(\"Statics for Rainfall\")\n",
    "    print(\"Minimum Rainfall  required : {0:2f}\".format(x['rainfall'].min()))\n",
    "    print(\"Average Rainfall  required : {0:2f}\".format(x['rainfall'].mean()))\n",
    "    print(\"Maximum Rainfall required : {0:2f}\".format(x['rainfall'].max()))\n",
    "    \n",
    "    \n",
    "\n",
    "    \n",
    "     "
   ]
  },
  {
   "cell_type": "code",
   "execution_count": 9,
   "id": "fc188e84",
   "metadata": {},
   "outputs": [
    {
     "data": {
      "application/vnd.jupyter.widget-view+json": {
       "model_id": "7e3e62239648402da5889b3d51803c32",
       "version_major": 2,
       "version_minor": 0
      },
      "text/plain": [
       "interactive(children=(Dropdown(description='Conditions', options=('N', 'P', 'K', 'temperature', 'ph', 'humidit…"
      ]
     },
     "metadata": {},
     "output_type": "display_data"
    }
   ],
   "source": [
    "@interact\n",
    "def compare(Conditions = ['N','P','K','temperature','ph','humidity','rainfall']):\n",
    "    print(\"Average Value for\", Conditions, \"is {0:.2f}\".format(data[Conditions].mean()))\n",
    "    print(\"___________________________________\")\n",
    "    print(\"Rice : {0:.2f}\".format(data[(data['label'] == 'rice')][Conditions].mean()))\n",
    "    print(\"Black Frams : {0:.2f}\".format(data[(data['label'] == 'blackgram')][Conditions].mean()))\n",
    "    print(\"Banana : {0:.2f}\".format(data[(data['label'] == 'banana')][Conditions].mean()))\n",
    "    print(\"Jute : {0:.2f}\".format(data[(data['label'] == 'jute')][Conditions].mean()))\n",
    "    print(\"Coconut : {0:.2f}\".format(data[(data['label'] == 'coconut')][Conditions].mean()))\n",
    "    print(\"Apple : {0:.2f}\".format(data[(data['label'] == 'apple')][Conditions].mean()))\n",
    "    print(\"Papaya : {0:.2f}\".format(data[(data['label'] == 'papaya')][Conditions].mean()))\n",
    "    print(\"Muskmelon : {0:.2f}\".format(data[(data['label'] == 'muskmelon')][Conditions].mean()))\n",
    "    print(\"Grapes : {0:.2f}\".format(data[(data['label'] == 'grapes')][Conditions].mean()))\n",
    "    print(\"Watermelon : {0:.2f}\".format(data[(data['label'] == 'watermelon')][Conditions].mean()))\n",
    "    print(\"Kidney beans : {0:.2f}\".format(data[(data['label'] == 'kidney beans')][Conditions].mean()))\n",
    "    print(\"Mung Beans : {0:.2f}\".format(data[(data['label'] == 'mung Beans')][Conditions].mean()))\n",
    "    print(\"Oranges : {0:.2f}\".format(data[(data['label'] == 'oranges')][Conditions].mean()))\n",
    "    print(\"Chick Peas : {0:.2f}\".format(data[(data['label'] == 'chick peas')][Conditions].mean()))\n",
    "    print(\"Lentils : {0:.2f}\".format(data[(data['label'] == 'lentils')][Conditions].mean()))\n",
    "    print(\"Cotton : {0:.2f}\".format(data[(data['label'] == 'cotton')][Conditions].mean()))\n",
    "    print(\"Maize : {0:.2f}\".format(data[(data['label'] == 'maize')][Conditions].mean()))\n",
    "    print(\"Moth Beans : {0:.2f}\".format(data[(data['label'] == 'moth beans')][Conditions].mean()))\n",
    "    print(\"Pigeon Peas : {0:.2f}\".format(data[(data['label'] == 'pigeon peas')][Conditions].mean()))\n",
    "    print(\"Mango : {0:.2f}\".format(data[(data['label'] == 'mango ')][Conditions].mean()))\n",
    "    print(\"Pomegranted : {0:.2f}\".format(data[(data['label'] == 'pomegranted')][Conditions].mean()))\n",
    "    print(\"Coffee : {0:.2f}\".format(data[(data['label'] == 'coffee ')][Conditions].mean()))\n",
    "    \n",
    "    \n",
    "    \n",
    "    \n",
    "    \n",
    "    \n",
    "    \n",
    "    \n",
    "    \n",
    "    \n",
    "    \n",
    "    \n",
    "    \n",
    "    \n",
    "    \n",
    "    \n",
    "    "
   ]
  },
  {
   "cell_type": "code",
   "execution_count": 10,
   "id": "47485189",
   "metadata": {},
   "outputs": [
    {
     "data": {
      "application/vnd.jupyter.widget-view+json": {
       "model_id": "bb64944cbf0a4cf8a1b84b666d49e94c",
       "version_major": 2,
       "version_minor": 0
      },
      "text/plain": [
       "interactive(children=(Dropdown(description='Conditions', options=('N', 'P', 'K', 'temperature', 'ph', 'humidit…"
      ]
     },
     "metadata": {},
     "output_type": "display_data"
    }
   ],
   "source": [
    "@interact\n",
    "def compare(Conditions = ['N','P','K','temperature','ph','humidity','rainfall']):\n",
    "    print(\"Crops which require greater than average\", Conditions,'\\n')\n",
    "    print(data[data[Conditions] > data[Conditions].mean()]['label'].unique())\n",
    "    print(\"------------------------------------------------------------\")\n",
    "    \n",
    "    print(\"Crops which require less than average\", Conditions,'\\n')\n",
    "    print(data[data[Conditions] <= data[Conditions].mean()]['label'].unique())\n",
    "   \n",
    "    \n",
    "    "
   ]
  },
  {
   "cell_type": "markdown",
   "id": "b6b58c12",
   "metadata": {},
   "source": [
    "# Distribution"
   ]
  },
  {
   "cell_type": "code",
   "execution_count": 52,
   "id": "9af287e5",
   "metadata": {},
   "outputs": [
    {
     "name": "stderr",
     "output_type": "stream",
     "text": [
      "C:\\Users\\aarti\\AppData\\Local\\Temp\\ipykernel_270252\\2130537491.py:5: UserWarning: \n",
      "\n",
      "`distplot` is a deprecated function and will be removed in seaborn v0.14.0.\n",
      "\n",
      "Please adapt your code to use either `displot` (a figure-level function with\n",
      "similar flexibility) or `histplot` (an axes-level function for histograms).\n",
      "\n",
      "For a guide to updating your code to use the new functions, please see\n",
      "https://gist.github.com/mwaskom/de44147ed2974457ad6372750bbe5751\n",
      "\n",
      "  sns.distplot(data['N'], color='lightgrey')\n",
      "C:\\Users\\aarti\\AppData\\Local\\Temp\\ipykernel_270252\\2130537491.py:11: UserWarning: \n",
      "\n",
      "`distplot` is a deprecated function and will be removed in seaborn v0.14.0.\n",
      "\n",
      "Please adapt your code to use either `displot` (a figure-level function with\n",
      "similar flexibility) or `histplot` (an axes-level function for histograms).\n",
      "\n",
      "For a guide to updating your code to use the new functions, please see\n",
      "https://gist.github.com/mwaskom/de44147ed2974457ad6372750bbe5751\n",
      "\n",
      "  sns.distplot(data['P'], color='skyblue')\n",
      "C:\\Users\\aarti\\AppData\\Local\\Temp\\ipykernel_270252\\2130537491.py:17: UserWarning: \n",
      "\n",
      "`distplot` is a deprecated function and will be removed in seaborn v0.14.0.\n",
      "\n",
      "Please adapt your code to use either `displot` (a figure-level function with\n",
      "similar flexibility) or `histplot` (an axes-level function for histograms).\n",
      "\n",
      "For a guide to updating your code to use the new functions, please see\n",
      "https://gist.github.com/mwaskom/de44147ed2974457ad6372750bbe5751\n",
      "\n",
      "  sns.distplot(data['K'], color='lightblue')\n",
      "C:\\Users\\aarti\\AppData\\Local\\Temp\\ipykernel_270252\\2130537491.py:23: UserWarning: \n",
      "\n",
      "`distplot` is a deprecated function and will be removed in seaborn v0.14.0.\n",
      "\n",
      "Please adapt your code to use either `displot` (a figure-level function with\n",
      "similar flexibility) or `histplot` (an axes-level function for histograms).\n",
      "\n",
      "For a guide to updating your code to use the new functions, please see\n",
      "https://gist.github.com/mwaskom/de44147ed2974457ad6372750bbe5751\n",
      "\n",
      "  sns.distplot(data['temperature'], color='red')\n",
      "C:\\Users\\aarti\\AppData\\Local\\Temp\\ipykernel_270252\\2130537491.py:29: UserWarning: \n",
      "\n",
      "`distplot` is a deprecated function and will be removed in seaborn v0.14.0.\n",
      "\n",
      "Please adapt your code to use either `displot` (a figure-level function with\n",
      "similar flexibility) or `histplot` (an axes-level function for histograms).\n",
      "\n",
      "For a guide to updating your code to use the new functions, please see\n",
      "https://gist.github.com/mwaskom/de44147ed2974457ad6372750bbe5751\n",
      "\n",
      "  sns.distplot(data['rainfall'], color='green')\n",
      "C:\\Users\\aarti\\AppData\\Local\\Temp\\ipykernel_270252\\2130537491.py:35: UserWarning: \n",
      "\n",
      "`distplot` is a deprecated function and will be removed in seaborn v0.14.0.\n",
      "\n",
      "Please adapt your code to use either `displot` (a figure-level function with\n",
      "similar flexibility) or `histplot` (an axes-level function for histograms).\n",
      "\n",
      "For a guide to updating your code to use the new functions, please see\n",
      "https://gist.github.com/mwaskom/de44147ed2974457ad6372750bbe5751\n",
      "\n",
      "  sns.distplot(data['humidity'], color='lightpink')  # Fixed color spelling here\n",
      "C:\\Users\\aarti\\AppData\\Local\\Temp\\ipykernel_270252\\2130537491.py:41: UserWarning: \n",
      "\n",
      "`distplot` is a deprecated function and will be removed in seaborn v0.14.0.\n",
      "\n",
      "Please adapt your code to use either `displot` (a figure-level function with\n",
      "similar flexibility) or `histplot` (an axes-level function for histograms).\n",
      "\n",
      "For a guide to updating your code to use the new functions, please see\n",
      "https://gist.github.com/mwaskom/de44147ed2974457ad6372750bbe5751\n",
      "\n",
      "  sns.distplot(data['ph'], color='lightgreen')\n"
     ]
    },
    {
     "data": {
      "image/png": "[encoded data removed]",
      "text/plain": [
       "<Figure size 1500x700 with 7 Axes>"
      ]
     },
     "metadata": {},
     "output_type": "display_data"
    }
   ],
   "source": [
    "plt.rcParams['figure.figsize'] = (15,7)\n",
    "\n",
    "# First subplot\n",
    "plt.subplot(2, 4, 1)\n",
    "sns.distplot(data['N'], color='lightgrey')\n",
    "plt.xlabel('Ratio of Nitrogen', fontsize=12)\n",
    "plt.grid()\n",
    "\n",
    "# Second subplot\n",
    "plt.subplot(2, 4, 2)\n",
    "sns.distplot(data['P'], color='skyblue')\n",
    "plt.xlabel('Ratio of Phosphorus', fontsize=12)  # Fixed spelling here\n",
    "plt.grid()\n",
    "\n",
    "# Third subplot\n",
    "plt.subplot(2, 4, 3)\n",
    "sns.distplot(data['K'], color='lightblue')\n",
    "plt.xlabel('Ratio of Potassium', fontsize=12)\n",
    "plt.grid()\n",
    "\n",
    "# Fourth subplot\n",
    "plt.subplot(2, 4, 4)\n",
    "sns.distplot(data['temperature'], color='red')\n",
    "plt.xlabel('Ratio of Temperature', fontsize=12)\n",
    "plt.grid()\n",
    "\n",
    "# Fifth subplot\n",
    "plt.subplot(2, 4, 5)\n",
    "sns.distplot(data['rainfall'], color='green')\n",
    "plt.xlabel('Ratio of Rainfall', fontsize=12)\n",
    "plt.grid()\n",
    "\n",
    "# Sixth subplot\n",
    "plt.subplot(2, 4, 6)\n",
    "sns.distplot(data['humidity'], color='lightpink')  # Fixed color spelling here\n",
    "plt.xlabel('Ratio of Humidity', fontsize=12)\n",
    "plt.grid()\n",
    "\n",
    "# Seventh subplot\n",
    "plt.subplot(2, 4, 7)\n",
    "sns.distplot(data['ph'], color='lightgreen')\n",
    "plt.xlabel('Ratio of PH level', fontsize=12)\n",
    "plt.grid()\n"
   ]
  },
  {
   "cell_type": "code",
   "execution_count": null,
   "id": "1c84241c",
   "metadata": {},
   "outputs": [],
   "source": [
    "plt.rcParams['figure.figsize'] = (15,7)\n",
    "\n",
    "# First subplot\n",
    "plt.subplot(2, 4, 1)\n",
    "sns.distplot(data['N'], color='lightgrey')\n",
    "plt.xlabel('Ratio of Nitrogen', fontsize=12)\n",
    "plt.grid()\n",
    "\n",
    "# Second subplot\n",
    "plt.subplot(2, 4, 2)\n",
    "sns.distplot(data['P'], color='skyblue')\n",
    "plt.xlabel('Ratio of Phosphorus', fontsize=12)  # Fixed spelling here\n",
    "plt.grid()\n",
    "\n",
    "# Third subplot\n",
    "plt.subplot(2, 4, 3)\n",
    "sns.distplot(data['K'], color='lightblue')\n",
    "plt.xlabel('Ratio of Potassium', fontsize=12)\n",
    "plt.grid()\n",
    "\n",
    "# Fourth subplot\n",
    "plt.subplot(2, 4, 4)\n",
    "sns.distplot(data['temperature'], color='red')\n",
    "plt.xlabel('Ratio of Temperature', fontsize=12)\n",
    "plt.grid()\n",
    "\n",
    "# Fifth subplot\n",
    "plt.subplot(2, 4, 5)\n",
    "sns.distplot(data['rainfall'], color='green')\n",
    "plt.xlabel('Ratio of Rainfall', fontsize=12)\n",
    "plt.grid()\n",
    "\n",
    "# Sixth subplot\n",
    "plt.subplot(2, 4, 6)\n",
    "sns.distplot(data['humidity'], color='lightpink')  # Fixed color spelling here\n",
    "plt.xlabel('Ratio of Humidity', fontsize=12)\n",
    "plt.grid()\n",
    "\n",
    "# Seventh subplot\n",
    "plt.subplot(2, 4, 7)\n",
    "sns.distplot(data['ph'], color='lightgreen')\n",
    "plt.xlabel('Ratio of PH level', fontsize=12)\n",
    "plt.grid()\n"
   ]
  },
  {
   "cell_type": "code",
   "execution_count": 12,
   "id": "ad29553c",
   "metadata": {},
   "outputs": [
    {
     "name": "stdout",
     "output_type": "stream",
     "text": [
      "Some Interesting Patterns\n",
      "-----------------------\n",
      "Crops which requires very high rate of Nitrogen content in soil: ['cotton']\n",
      "Crops which requires very high rate of Phosphorous content in soil: ['grapes' 'apple']\n",
      "Crops which requires very high rate of Potassium content in soil: ['grapes' 'apple']\n",
      "Crops which requires very high rate of Rainfall content in soil: []\n",
      "Crops which requires very high rate of Temperature content in soil: ['rice' 'maize' 'chickpea' 'kidneybeans' 'pigeonpeas' 'mothbeans'\n",
      " 'mungbean' 'blackgram' 'lentil' 'pomegranate' 'banana' 'mango' 'grapes'\n",
      " 'watermelon' 'muskmelon' 'apple' 'orange' 'papaya' 'coconut' 'cotton'\n",
      " 'jute' 'coffee']\n",
      "Crops which requires very high rate of Temperature content in soil: []\n",
      "Crops which requires very high rate of Low Humidity content in soil: ['kidneybeans' 'pigeonpeas' 'mothbeans' 'mungbean' 'lentil' 'pomegranate'\n",
      " 'mango' 'grapes' 'apple' 'orange' 'coconut']\n",
      "Crops which requires very high rate of Low PH content in soil: []\n",
      "Crops which requires very high rate of High PH content in soil: []\n"
     ]
    }
   ],
   "source": [
    "#lets find out some interesting fact\n",
    "print(\"Some Interesting Patterns\")\n",
    "print(\"-----------------------\")\n",
    "print(\"Crops which requires very high rate of Nitrogen content in soil:\",data[data['N'] > 120]['label'].unique())\n",
    "print(\"Crops which requires very high rate of Phosphorous content in soil:\",data[data['P'] > 100]['label'].unique())\n",
    "print(\"Crops which requires very high rate of Potassium content in soil:\",data[data['K'] > 200]['label'].unique())\n",
    "print(\"Crops which requires very high rate of Rainfall content in soil:\",data[data['rainfall'] < 10]['label'].unique())\n",
    "print(\"Crops which requires very high rate of Temperature content in soil:\",data[data['temperature'] < 120]['label'].unique())\n",
    "print(\"Crops which requires very high rate of Temperature content in soil:\",data[data['temperature'] > 120]['label'].unique())\n",
    "print(\"Crops which requires very high rate of Low Humidity content in soil:\",data[data['N'] < 10]['label'].unique())\n",
    "print(\"Crops which requires very high rate of Low PH content in soil:\",data[data['ph'] > 40]['label'].unique())\n",
    "print(\"Crops which requires very high rate of High PH content in soil:\",data[data['ph'] > 120]['label'].unique())\n"
   ]
  },
  {
   "cell_type": "code",
   "execution_count": 16,
   "id": "b39d2532",
   "metadata": {},
   "outputs": [
    {
     "name": "stdout",
     "output_type": "stream",
     "text": [
      "Summer Crops\n",
      "['pigeonpeas' 'mothbeans' 'blackgram' 'mango' 'grapes' 'orange' 'papaya']\n",
      "-------------------------------------------------------------------------\n",
      "Winter Crops\n",
      "['maize' 'pigeonpeas' 'lentil' 'pomegranate' 'grapes' 'orange']\n",
      "-------------------------------------------------------------------------\n",
      "Rainy Crops\n",
      "['rice' 'maize' 'pigeonpeas' 'mothbeans' 'mungbean' 'blackgram' 'lentil'\n",
      " 'pomegranate' 'banana' 'mango' 'grapes' 'watermelon' 'muskmelon' 'apple'\n",
      " 'orange' 'papaya' 'coconut' 'cotton' 'jute' 'coffee']\n"
     ]
    }
   ],
   "source": [
    "#check Season \n",
    "print(\"Summer Crops\")\n",
    "print(data[(data['temperature'] > 30) & (data['humidity'] > 50)]['label'].unique())\n",
    "print(\"-------------------------------------------------------------------------\")\n",
    "print(\"Winter Crops\")\n",
    "print(data[(data['temperature'] < 20) & (data['humidity'] > 30)]['label'].unique())\n",
    "print(\"-------------------------------------------------------------------------\")\n",
    "print(\"Rainy Crops\")\n",
    "print(data[(data['temperature'] < 200) & (data['humidity'] > 30)]['label'].unique())\n"
   ]
  },
  {
   "cell_type": "code",
   "execution_count": 20,
   "id": "871f001a",
   "metadata": {},
   "outputs": [
    {
     "name": "stdout",
     "output_type": "stream",
     "text": [
      "(2200, 7)\n"
     ]
    },
    {
     "data": {
      "text/html": [
       "<div>\n",
       "<style scoped>\n",
       "    .dataframe tbody tr th:only-of-type {\n",
       "        vertical-align: middle;\n",
       "    }\n",
       "\n",
       "    .dataframe tbody tr th {\n",
       "        vertical-align: top;\n",
       "    }\n",
       "\n",
       "    .dataframe thead th {\n",
       "        text-align: right;\n",
       "    }\n",
       "</style>\n",
       "<table border=\"1\" class=\"dataframe\">\n",
       "  <thead>\n",
       "    <tr style=\"text-align: right;\">\n",
       "      <th></th>\n",
       "      <th>0</th>\n",
       "      <th>1</th>\n",
       "      <th>2</th>\n",
       "      <th>3</th>\n",
       "      <th>4</th>\n",
       "      <th>5</th>\n",
       "      <th>6</th>\n",
       "    </tr>\n",
       "  </thead>\n",
       "  <tbody>\n",
       "    <tr>\n",
       "      <th>0</th>\n",
       "      <td>90.0</td>\n",
       "      <td>42.0</td>\n",
       "      <td>43.0</td>\n",
       "      <td>20.879744</td>\n",
       "      <td>6.502985</td>\n",
       "      <td>82.002744</td>\n",
       "      <td>202.935536</td>\n",
       "    </tr>\n",
       "    <tr>\n",
       "      <th>1</th>\n",
       "      <td>85.0</td>\n",
       "      <td>58.0</td>\n",
       "      <td>41.0</td>\n",
       "      <td>21.770462</td>\n",
       "      <td>7.038096</td>\n",
       "      <td>80.319644</td>\n",
       "      <td>226.655537</td>\n",
       "    </tr>\n",
       "    <tr>\n",
       "      <th>2</th>\n",
       "      <td>60.0</td>\n",
       "      <td>55.0</td>\n",
       "      <td>44.0</td>\n",
       "      <td>23.004459</td>\n",
       "      <td>7.840207</td>\n",
       "      <td>82.320763</td>\n",
       "      <td>263.964248</td>\n",
       "    </tr>\n",
       "    <tr>\n",
       "      <th>3</th>\n",
       "      <td>74.0</td>\n",
       "      <td>35.0</td>\n",
       "      <td>40.0</td>\n",
       "      <td>26.491096</td>\n",
       "      <td>6.980401</td>\n",
       "      <td>80.158363</td>\n",
       "      <td>242.864034</td>\n",
       "    </tr>\n",
       "    <tr>\n",
       "      <th>4</th>\n",
       "      <td>78.0</td>\n",
       "      <td>42.0</td>\n",
       "      <td>42.0</td>\n",
       "      <td>20.130175</td>\n",
       "      <td>7.628473</td>\n",
       "      <td>81.604873</td>\n",
       "      <td>262.717340</td>\n",
       "    </tr>\n",
       "  </tbody>\n",
       "</table>\n",
       "</div>"
      ],
      "text/plain": [
       "      0     1     2          3         4          5           6\n",
       "0  90.0  42.0  43.0  20.879744  6.502985  82.002744  202.935536\n",
       "1  85.0  58.0  41.0  21.770462  7.038096  80.319644  226.655537\n",
       "2  60.0  55.0  44.0  23.004459  7.840207  82.320763  263.964248\n",
       "3  74.0  35.0  40.0  26.491096  6.980401  80.158363  242.864034\n",
       "4  78.0  42.0  42.0  20.130175  7.628473  81.604873  262.717340"
      ]
     },
     "execution_count": 20,
     "metadata": {},
     "output_type": "execute_result"
    }
   ],
   "source": [
    "from sklearn.cluster import KMeans  # Corrected import\n",
    "import warnings\n",
    "import pandas as pd\n",
    "x = data.loc[:,['N','P','K','temperature','ph','humidity','rainfall']].values\n",
    "print(x.shape)\n",
    "x_data  = pd.DataFrame(x)\n",
    "x_data.head()\n"
   ]
  },
  {
   "cell_type": "code",
   "execution_count": null,
   "id": "45439b43",
   "metadata": {},
   "outputs": [],
   "source": []
  },
  {
   "cell_type": "code",
   "execution_count": null,
   "id": "cc68b0b7",
   "metadata": {},
   "outputs": [],
   "source": []
  },
  {
   "cell_type": "code",
   "execution_count": 21,
   "id": "b5abc43a",
   "metadata": {},
   "outputs": [
    {
     "name": "stdout",
     "output_type": "stream",
     "text": [
      "Shape of x: (2200, 7)\n",
      "Shape of y: (2200,)\n"
     ]
    }
   ],
   "source": [
    "#split the dataset for predictive modelling\n",
    "y = data['label']\n",
    "x = data.drop(['label'], axis = 1)\n",
    "\n",
    "print(\"Shape of x:\", x.shape)\n",
    "print(\"Shape of y:\", y.shape)"
   ]
  },
  {
   "cell_type": "code",
   "execution_count": 22,
   "id": "428e56ad",
   "metadata": {},
   "outputs": [
    {
     "name": "stdout",
     "output_type": "stream",
     "text": [
      "The shape of x train: (1760, 7)\n",
      "The shape of x test: (440, 7)\n",
      "The shape of y tain: (1760,)\n",
      "The shape of y test: (440, 7)\n"
     ]
    }
   ],
   "source": [
    "#Training and Testing\n",
    "from sklearn.model_selection import train_test_split\n",
    "x_train,x_test,y_train,y_test = train_test_split(x,y,test_size = 0.2,random_state = 0)\n",
    "print(\"The shape of x train:\",x_train.shape)\n",
    "print(\"The shape of x test:\",x_test.shape)\n",
    "print(\"The shape of y tain:\",y_train.shape)\n",
    "print(\"The shape of y test:\",x_test.shape)"
   ]
  },
  {
   "cell_type": "code",
   "execution_count": 39,
   "id": "1ae2b3b0",
   "metadata": {},
   "outputs": [
    {
     "name": "stderr",
     "output_type": "stream",
     "text": [
      "C:\\Users\\aarti\\anaconda3\\Lib\\site-packages\\sklearn\\linear_model\\_logistic.py:458: ConvergenceWarning: lbfgs failed to converge (status=1):\n",
      "STOP: TOTAL NO. of ITERATIONS REACHED LIMIT.\n",
      "\n",
      "Increase the number of iterations (max_iter) or scale the data as shown in:\n",
      "    https://scikit-learn.org/stable/modules/preprocessing.html\n",
      "Please also refer to the documentation for alternative solver options:\n",
      "    https://scikit-learn.org/stable/modules/linear_model.html#logistic-regression\n",
      "  n_iter_i = _check_optimize_result(\n"
     ]
    },
    {
     "data": {
      "text/plain": [
       "array(['watermelon', 'watermelon', 'grapes', 'chickpea', 'blackgram',\n",
       "       'jute', 'mothbeans', 'kidneybeans', 'muskmelon', 'banana',\n",
       "       'mothbeans', 'coffee', 'lentil', 'mungbean', 'mango', 'apple',\n",
       "       'coffee', 'lentil', 'coffee', 'mango', 'coconut', 'blackgram',\n",
       "       'kidneybeans', 'jute', 'cotton', 'coffee', 'lentil', 'orange',\n",
       "       'mothbeans', 'kidneybeans', 'pomegranate', 'rice', 'maize',\n",
       "       'muskmelon', 'coconut', 'cotton', 'mango', 'mango', 'watermelon',\n",
       "       'mothbeans', 'maize', 'blackgram', 'pigeonpeas', 'watermelon',\n",
       "       'pigeonpeas', 'mungbean', 'kidneybeans', 'kidneybeans', 'cotton',\n",
       "       'mungbean', 'mothbeans', 'blackgram', 'apple', 'muskmelon',\n",
       "       'pigeonpeas', 'banana', 'papaya', 'mango', 'lentil', 'cotton',\n",
       "       'orange', 'mungbean', 'watermelon', 'rice', 'muskmelon', 'apple',\n",
       "       'grapes', 'coffee', 'apple', 'orange', 'coconut', 'pomegranate',\n",
       "       'kidneybeans', 'maize', 'grapes', 'mothbeans', 'chickpea', 'maize',\n",
       "       'jute', 'mango', 'rice', 'mothbeans', 'watermelon', 'watermelon',\n",
       "       'muskmelon', 'cotton', 'maize', 'lentil', 'mothbeans', 'papaya',\n",
       "       'blackgram', 'jute', 'mungbean', 'grapes', 'mungbean', 'maize',\n",
       "       'coffee', 'jute', 'lentil', 'chickpea', 'orange', 'jute',\n",
       "       'mungbean', 'banana', 'banana', 'rice', 'watermelon', 'coffee',\n",
       "       'pigeonpeas', 'muskmelon', 'muskmelon', 'mango', 'coffee',\n",
       "       'grapes', 'orange', 'pomegranate', 'mungbean', 'lentil', 'maize',\n",
       "       'jute', 'pomegranate', 'lentil', 'orange', 'chickpea', 'chickpea',\n",
       "       'blackgram', 'pomegranate', 'orange', 'chickpea', 'papaya',\n",
       "       'mothbeans', 'blackgram', 'muskmelon', 'mungbean', 'cotton',\n",
       "       'mungbean', 'coconut', 'pomegranate', 'orange', 'blackgram',\n",
       "       'lentil', 'grapes', 'apple', 'coffee', 'chickpea', 'apple', 'jute',\n",
       "       'mango', 'watermelon', 'papaya', 'orange', 'coconut', 'mothbeans',\n",
       "       'banana', 'pomegranate', 'chickpea', 'watermelon', 'maize',\n",
       "       'apple', 'jute', 'lentil', 'pigeonpeas', 'jute', 'kidneybeans',\n",
       "       'kidneybeans', 'muskmelon', 'rice', 'muskmelon', 'banana',\n",
       "       'orange', 'pigeonpeas', 'apple', 'mothbeans', 'coconut', 'cotton',\n",
       "       'mungbean', 'kidneybeans', 'pomegranate', 'papaya', 'orange',\n",
       "       'rice', 'papaya', 'papaya', 'pigeonpeas', 'kidneybeans', 'banana',\n",
       "       'coconut', 'pigeonpeas', 'rice', 'papaya', 'maize', 'jute',\n",
       "       'mothbeans', 'rice', 'maize', 'coffee', 'pigeonpeas', 'coconut',\n",
       "       'chickpea', 'mango', 'coconut', 'pomegranate', 'cotton',\n",
       "       'mothbeans', 'mothbeans', 'orange', 'muskmelon', 'maize',\n",
       "       'pigeonpeas', 'banana', 'chickpea', 'blackgram', 'pigeonpeas',\n",
       "       'orange', 'mothbeans', 'mungbean', 'mango', 'papaya', 'muskmelon',\n",
       "       'pomegranate', 'jute', 'rice', 'blackgram', 'papaya', 'blackgram',\n",
       "       'coffee', 'maize', 'coffee', 'orange', 'rice', 'mothbeans',\n",
       "       'mungbean', 'orange', 'kidneybeans', 'pomegranate', 'coconut',\n",
       "       'mango', 'mungbean', 'cotton', 'rice', 'chickpea', 'mungbean',\n",
       "       'apple', 'pigeonpeas', 'mothbeans', 'rice', 'watermelon',\n",
       "       'blackgram', 'pomegranate', 'orange', 'maize', 'grapes',\n",
       "       'chickpea', 'pigeonpeas', 'jute', 'papaya', 'pomegranate',\n",
       "       'coffee', 'mango', 'mothbeans', 'jute', 'watermelon',\n",
       "       'pomegranate', 'rice', 'grapes', 'coconut', 'jute', 'lentil',\n",
       "       'chickpea', 'coffee', 'coffee', 'papaya', 'pomegranate', 'maize',\n",
       "       'rice', 'chickpea', 'pigeonpeas', 'orange', 'pomegranate',\n",
       "       'pigeonpeas', 'coconut', 'kidneybeans', 'pomegranate', 'muskmelon',\n",
       "       'mothbeans', 'mango', 'lentil', 'banana', 'blackgram', 'mango',\n",
       "       'kidneybeans', 'mango', 'cotton', 'mungbean', 'papaya', 'grapes',\n",
       "       'grapes', 'pigeonpeas', 'papaya', 'jute', 'rice', 'chickpea',\n",
       "       'muskmelon', 'coffee', 'watermelon', 'jute', 'jute', 'mothbeans',\n",
       "       'grapes', 'muskmelon', 'blackgram', 'mothbeans', 'mothbeans',\n",
       "       'chickpea', 'blackgram', 'mango', 'banana', 'mango', 'pomegranate',\n",
       "       'jute', 'orange', 'muskmelon', 'chickpea', 'lentil', 'cotton',\n",
       "       'papaya', 'grapes', 'kidneybeans', 'lentil', 'apple', 'rice',\n",
       "       'muskmelon', 'apple', 'papaya', 'blackgram', 'jute', 'chickpea',\n",
       "       'mothbeans', 'lentil', 'grapes', 'jute', 'kidneybeans',\n",
       "       'muskmelon', 'papaya', 'grapes', 'papaya', 'rice', 'coffee',\n",
       "       'muskmelon', 'mothbeans', 'banana', 'papaya', 'orange',\n",
       "       'kidneybeans', 'watermelon', 'pigeonpeas', 'apple', 'watermelon',\n",
       "       'watermelon', 'pigeonpeas', 'kidneybeans', 'blackgram',\n",
       "       'kidneybeans', 'jute', 'coconut', 'cotton', 'kidneybeans',\n",
       "       'orange', 'cotton', 'pigeonpeas', 'pomegranate', 'cotton',\n",
       "       'cotton', 'apple', 'cotton', 'apple', 'orange', 'maize', 'grapes',\n",
       "       'banana', 'apple', 'mothbeans', 'rice', 'kidneybeans', 'banana',\n",
       "       'jute', 'lentil', 'chickpea', 'pomegranate', 'banana', 'chickpea',\n",
       "       'muskmelon', 'pomegranate', 'apple', 'lentil', 'muskmelon',\n",
       "       'orange', 'blackgram', 'muskmelon', 'mothbeans', 'mango',\n",
       "       'chickpea', 'pomegranate', 'mango', 'chickpea', 'coconut',\n",
       "       'muskmelon', 'banana', 'pigeonpeas', 'papaya', 'jute', 'blackgram',\n",
       "       'cotton', 'rice', 'banana', 'coconut', 'rice', 'blackgram',\n",
       "       'maize', 'orange', 'watermelon', 'rice', 'apple', 'grapes',\n",
       "       'pigeonpeas', 'grapes', 'chickpea', 'mango', 'jute', 'pomegranate',\n",
       "       'maize', 'mango', 'grapes', 'banana', 'mungbean', 'pigeonpeas',\n",
       "       'banana', 'cotton', 'blackgram', 'apple'], dtype=object)"
      ]
     },
     "execution_count": 39,
     "metadata": {},
     "output_type": "execute_result"
    }
   ],
   "source": [
    "# crete a prediction model\n",
    "\n",
    "from sklearn.linear_model import LogisticRegression \n",
    "model = LogisticRegression()\n",
    "model.fit(x_train,y_train)\n",
    "y_pred = model.predict(x_test)\n",
    "\n",
    "y_pred\n"
   ]
  },
  {
   "cell_type": "code",
   "execution_count": 40,
   "id": "e40c5cea",
   "metadata": {},
   "outputs": [
    {
     "name": "stdout",
     "output_type": "stream",
     "text": [
      "              precision    recall  f1-score   support\n",
      "\n",
      "       apple       1.00      1.00      1.00        18\n",
      "      banana       1.00      1.00      1.00        18\n",
      "   blackgram       0.86      0.82      0.84        22\n",
      "    chickpea       1.00      1.00      1.00        23\n",
      "     coconut       1.00      1.00      1.00        15\n",
      "      coffee       1.00      1.00      1.00        17\n",
      "      cotton       0.89      1.00      0.94        16\n",
      "      grapes       1.00      1.00      1.00        18\n",
      "        jute       0.84      1.00      0.91        21\n",
      " kidneybeans       1.00      1.00      1.00        20\n",
      "      lentil       0.94      0.94      0.94        17\n",
      "       maize       0.94      0.89      0.91        18\n",
      "       mango       1.00      1.00      1.00        21\n",
      "   mothbeans       0.88      0.92      0.90        25\n",
      "    mungbean       1.00      1.00      1.00        17\n",
      "   muskmelon       1.00      1.00      1.00        23\n",
      "      orange       1.00      1.00      1.00        23\n",
      "      papaya       1.00      0.95      0.98        21\n",
      "  pigeonpeas       1.00      1.00      1.00        22\n",
      " pomegranate       1.00      1.00      1.00        23\n",
      "        rice       1.00      0.84      0.91        25\n",
      "  watermelon       1.00      1.00      1.00        17\n",
      "\n",
      "    accuracy                           0.97       440\n",
      "   macro avg       0.97      0.97      0.97       440\n",
      "weighted avg       0.97      0.97      0.97       440\n",
      "\n"
     ]
    }
   ],
   "source": [
    "from sklearn.metrics import classification_report\n",
    "cr = classification_report(y_test, y_pred)\n",
    "print(cr)"
   ]
  },
  {
   "cell_type": "code",
   "execution_count": 41,
   "id": "ed33105b",
   "metadata": {},
   "outputs": [
    {
     "data": {
      "text/html": [
       "<div>\n",
       "<style scoped>\n",
       "    .dataframe tbody tr th:only-of-type {\n",
       "        vertical-align: middle;\n",
       "    }\n",
       "\n",
       "    .dataframe tbody tr th {\n",
       "        vertical-align: top;\n",
       "    }\n",
       "\n",
       "    .dataframe thead th {\n",
       "        text-align: right;\n",
       "    }\n",
       "</style>\n",
       "<table border=\"1\" class=\"dataframe\">\n",
       "  <thead>\n",
       "    <tr style=\"text-align: right;\">\n",
       "      <th></th>\n",
       "      <th>N</th>\n",
       "      <th>P</th>\n",
       "      <th>K</th>\n",
       "      <th>temperature</th>\n",
       "      <th>humidity</th>\n",
       "      <th>ph</th>\n",
       "      <th>rainfall</th>\n",
       "      <th>label</th>\n",
       "    </tr>\n",
       "  </thead>\n",
       "  <tbody>\n",
       "    <tr>\n",
       "      <th>0</th>\n",
       "      <td>90</td>\n",
       "      <td>42</td>\n",
       "      <td>43</td>\n",
       "      <td>20.879744</td>\n",
       "      <td>82.002744</td>\n",
       "      <td>6.502985</td>\n",
       "      <td>202.935536</td>\n",
       "      <td>rice</td>\n",
       "    </tr>\n",
       "    <tr>\n",
       "      <th>1</th>\n",
       "      <td>85</td>\n",
       "      <td>58</td>\n",
       "      <td>41</td>\n",
       "      <td>21.770462</td>\n",
       "      <td>80.319644</td>\n",
       "      <td>7.038096</td>\n",
       "      <td>226.655537</td>\n",
       "      <td>rice</td>\n",
       "    </tr>\n",
       "    <tr>\n",
       "      <th>2</th>\n",
       "      <td>60</td>\n",
       "      <td>55</td>\n",
       "      <td>44</td>\n",
       "      <td>23.004459</td>\n",
       "      <td>82.320763</td>\n",
       "      <td>7.840207</td>\n",
       "      <td>263.964248</td>\n",
       "      <td>rice</td>\n",
       "    </tr>\n",
       "    <tr>\n",
       "      <th>3</th>\n",
       "      <td>74</td>\n",
       "      <td>35</td>\n",
       "      <td>40</td>\n",
       "      <td>26.491096</td>\n",
       "      <td>80.158363</td>\n",
       "      <td>6.980401</td>\n",
       "      <td>242.864034</td>\n",
       "      <td>rice</td>\n",
       "    </tr>\n",
       "    <tr>\n",
       "      <th>4</th>\n",
       "      <td>78</td>\n",
       "      <td>42</td>\n",
       "      <td>42</td>\n",
       "      <td>20.130175</td>\n",
       "      <td>81.604873</td>\n",
       "      <td>7.628473</td>\n",
       "      <td>262.717340</td>\n",
       "      <td>rice</td>\n",
       "    </tr>\n",
       "  </tbody>\n",
       "</table>\n",
       "</div>"
      ],
      "text/plain": [
       "    N   P   K  temperature   humidity        ph    rainfall label\n",
       "0  90  42  43    20.879744  82.002744  6.502985  202.935536  rice\n",
       "1  85  58  41    21.770462  80.319644  7.038096  226.655537  rice\n",
       "2  60  55  44    23.004459  82.320763  7.840207  263.964248  rice\n",
       "3  74  35  40    26.491096  80.158363  6.980401  242.864034  rice\n",
       "4  78  42  42    20.130175  81.604873  7.628473  262.717340  rice"
      ]
     },
     "execution_count": 41,
     "metadata": {},
     "output_type": "execute_result"
    }
   ],
   "source": [
    "data.head()"
   ]
  },
  {
   "cell_type": "code",
   "execution_count": 42,
   "id": "427725de",
   "metadata": {},
   "outputs": [
    {
     "name": "stdout",
     "output_type": "stream",
     "text": [
      "The Suggested crop for given climatic condition is : ['rice']\n"
     ]
    },
    {
     "name": "stderr",
     "output_type": "stream",
     "text": [
      "C:\\Users\\aarti\\anaconda3\\Lib\\site-packages\\sklearn\\base.py:439: UserWarning: X does not have valid feature names, but LogisticRegression was fitted with feature names\n",
      "  warnings.warn(\n"
     ]
    }
   ],
   "source": [
    "prediction = model.predict((np.array([[90,\n",
    "                                      40,\n",
    "                                      40,\n",
    "                                      20,\n",
    "                                      80,\n",
    "                                      7,\n",
    "                                      200]])))\n",
    "print(\"The Suggested crop for given climatic condition is :\",prediction)"
   ]
  },
  {
   "cell_type": "code",
   "execution_count": null,
   "id": "a383b24c",
   "metadata": {},
   "outputs": [],
   "source": []
  },
  {
   "cell_type": "code",
   "execution_count": 43,
   "id": "7d1f1d1c",
   "metadata": {},
   "outputs": [],
   "source": [
    "#check orang data"
   ]
  },
  {
   "cell_type": "code",
   "execution_count": 46,
   "id": "b9627ba5",
   "metadata": {},
   "outputs": [
    {
     "data": {
      "text/html": [
       "<div>\n",
       "<style scoped>\n",
       "    .dataframe tbody tr th:only-of-type {\n",
       "        vertical-align: middle;\n",
       "    }\n",
       "\n",
       "    .dataframe tbody tr th {\n",
       "        vertical-align: top;\n",
       "    }\n",
       "\n",
       "    .dataframe thead th {\n",
       "        text-align: right;\n",
       "    }\n",
       "</style>\n",
       "<table border=\"1\" class=\"dataframe\">\n",
       "  <thead>\n",
       "    <tr style=\"text-align: right;\">\n",
       "      <th></th>\n",
       "      <th>N</th>\n",
       "      <th>P</th>\n",
       "      <th>K</th>\n",
       "      <th>temperature</th>\n",
       "      <th>humidity</th>\n",
       "      <th>ph</th>\n",
       "      <th>rainfall</th>\n",
       "      <th>label</th>\n",
       "    </tr>\n",
       "  </thead>\n",
       "  <tbody>\n",
       "    <tr>\n",
       "      <th>1600</th>\n",
       "      <td>22</td>\n",
       "      <td>30</td>\n",
       "      <td>12</td>\n",
       "      <td>15.781442</td>\n",
       "      <td>92.510777</td>\n",
       "      <td>6.354007</td>\n",
       "      <td>119.035002</td>\n",
       "      <td>orange</td>\n",
       "    </tr>\n",
       "    <tr>\n",
       "      <th>1601</th>\n",
       "      <td>37</td>\n",
       "      <td>6</td>\n",
       "      <td>13</td>\n",
       "      <td>26.030973</td>\n",
       "      <td>91.508193</td>\n",
       "      <td>7.511755</td>\n",
       "      <td>101.284774</td>\n",
       "      <td>orange</td>\n",
       "    </tr>\n",
       "    <tr>\n",
       "      <th>1602</th>\n",
       "      <td>27</td>\n",
       "      <td>13</td>\n",
       "      <td>6</td>\n",
       "      <td>13.360506</td>\n",
       "      <td>91.356082</td>\n",
       "      <td>7.335158</td>\n",
       "      <td>111.226688</td>\n",
       "      <td>orange</td>\n",
       "    </tr>\n",
       "    <tr>\n",
       "      <th>1603</th>\n",
       "      <td>7</td>\n",
       "      <td>16</td>\n",
       "      <td>9</td>\n",
       "      <td>18.879577</td>\n",
       "      <td>92.043045</td>\n",
       "      <td>7.813917</td>\n",
       "      <td>114.665951</td>\n",
       "      <td>orange</td>\n",
       "    </tr>\n",
       "    <tr>\n",
       "      <th>1604</th>\n",
       "      <td>20</td>\n",
       "      <td>7</td>\n",
       "      <td>9</td>\n",
       "      <td>29.477417</td>\n",
       "      <td>91.578029</td>\n",
       "      <td>7.129137</td>\n",
       "      <td>111.172750</td>\n",
       "      <td>orange</td>\n",
       "    </tr>\n",
       "  </tbody>\n",
       "</table>\n",
       "</div>"
      ],
      "text/plain": [
       "       N   P   K  temperature   humidity        ph    rainfall   label\n",
       "1600  22  30  12    15.781442  92.510777  6.354007  119.035002  orange\n",
       "1601  37   6  13    26.030973  91.508193  7.511755  101.284774  orange\n",
       "1602  27  13   6    13.360506  91.356082  7.335158  111.226688  orange\n",
       "1603   7  16   9    18.879577  92.043045  7.813917  114.665951  orange\n",
       "1604  20   7   9    29.477417  91.578029  7.129137  111.172750  orange"
      ]
     },
     "execution_count": 46,
     "metadata": {},
     "output_type": "execute_result"
    }
   ],
   "source": [
    "data[data['label'] == 'orange'].head()"
   ]
  },
  {
   "cell_type": "code",
   "execution_count": 49,
   "id": "774d13d4",
   "metadata": {},
   "outputs": [
    {
     "name": "stdout",
     "output_type": "stream",
     "text": [
      "The Suggested crop for given climatic condition is : ['orange']\n"
     ]
    },
    {
     "name": "stderr",
     "output_type": "stream",
     "text": [
      "C:\\Users\\aarti\\anaconda3\\Lib\\site-packages\\sklearn\\base.py:439: UserWarning: X does not have valid feature names, but LogisticRegression was fitted with feature names\n",
      "  warnings.warn(\n"
     ]
    }
   ],
   "source": [
    "prediction = model.predict((np.array([[20,\n",
    "                                      30,\n",
    "                                      10,\n",
    "                                      15,\n",
    "                                      90,\n",
    "                                      7.5,\n",
    "                                      100]])))\n",
    "print(\"The Suggested crop for given climatic condition is :\",prediction)"
   ]
  },
  {
   "cell_type": "code",
   "execution_count": 50,
   "id": "a205c311",
   "metadata": {},
   "outputs": [
    {
     "data": {
      "text/html": [
       "<div>\n",
       "<style scoped>\n",
       "    .dataframe tbody tr th:only-of-type {\n",
       "        vertical-align: middle;\n",
       "    }\n",
       "\n",
       "    .dataframe tbody tr th {\n",
       "        vertical-align: top;\n",
       "    }\n",
       "\n",
       "    .dataframe thead th {\n",
       "        text-align: right;\n",
       "    }\n",
       "</style>\n",
       "<table border=\"1\" class=\"dataframe\">\n",
       "  <thead>\n",
       "    <tr style=\"text-align: right;\">\n",
       "      <th></th>\n",
       "      <th>N</th>\n",
       "      <th>P</th>\n",
       "      <th>K</th>\n",
       "      <th>temperature</th>\n",
       "      <th>humidity</th>\n",
       "      <th>ph</th>\n",
       "      <th>rainfall</th>\n",
       "      <th>label</th>\n",
       "    </tr>\n",
       "  </thead>\n",
       "  <tbody>\n",
       "    <tr>\n",
       "      <th>1800</th>\n",
       "      <td>18</td>\n",
       "      <td>30</td>\n",
       "      <td>29</td>\n",
       "      <td>26.762749</td>\n",
       "      <td>92.860569</td>\n",
       "      <td>6.420019</td>\n",
       "      <td>224.590366</td>\n",
       "      <td>coconut</td>\n",
       "    </tr>\n",
       "    <tr>\n",
       "      <th>1801</th>\n",
       "      <td>37</td>\n",
       "      <td>23</td>\n",
       "      <td>28</td>\n",
       "      <td>25.612944</td>\n",
       "      <td>94.313884</td>\n",
       "      <td>5.740055</td>\n",
       "      <td>224.320676</td>\n",
       "      <td>coconut</td>\n",
       "    </tr>\n",
       "    <tr>\n",
       "      <th>1802</th>\n",
       "      <td>13</td>\n",
       "      <td>28</td>\n",
       "      <td>33</td>\n",
       "      <td>28.130115</td>\n",
       "      <td>95.648076</td>\n",
       "      <td>5.686973</td>\n",
       "      <td>151.076190</td>\n",
       "      <td>coconut</td>\n",
       "    </tr>\n",
       "    <tr>\n",
       "      <th>1803</th>\n",
       "      <td>2</td>\n",
       "      <td>21</td>\n",
       "      <td>35</td>\n",
       "      <td>25.028872</td>\n",
       "      <td>91.537209</td>\n",
       "      <td>6.293662</td>\n",
       "      <td>179.824894</td>\n",
       "      <td>coconut</td>\n",
       "    </tr>\n",
       "    <tr>\n",
       "      <th>1804</th>\n",
       "      <td>10</td>\n",
       "      <td>18</td>\n",
       "      <td>35</td>\n",
       "      <td>27.797977</td>\n",
       "      <td>99.645730</td>\n",
       "      <td>6.381975</td>\n",
       "      <td>181.694228</td>\n",
       "      <td>coconut</td>\n",
       "    </tr>\n",
       "  </tbody>\n",
       "</table>\n",
       "</div>"
      ],
      "text/plain": [
       "       N   P   K  temperature   humidity        ph    rainfall    label\n",
       "1800  18  30  29    26.762749  92.860569  6.420019  224.590366  coconut\n",
       "1801  37  23  28    25.612944  94.313884  5.740055  224.320676  coconut\n",
       "1802  13  28  33    28.130115  95.648076  5.686973  151.076190  coconut\n",
       "1803   2  21  35    25.028872  91.537209  6.293662  179.824894  coconut\n",
       "1804  10  18  35    27.797977  99.645730  6.381975  181.694228  coconut"
      ]
     },
     "execution_count": 50,
     "metadata": {},
     "output_type": "execute_result"
    }
   ],
   "source": [
    "data[data['label'] == 'coconut'].head()"
   ]
  },
  {
   "cell_type": "code",
   "execution_count": null,
   "id": "4c84bda8",
   "metadata": {},
   "outputs": [],
   "source": []
  }
 ],
 "metadata": {
  "kernelspec": {
   "display_name": "Python 3 (ipykernel)",
   "language": "python",
   "name": "python3"
  },
  "language_info": {
   "codemirror_mode": {
    "name": "ipython",
    "version": 3
   },
   "file_extension": ".py",
   "mimetype": "text/x-python",
   "name": "python",
   "nbconvert_exporter": "python",
   "pygments_lexer": "ipython3",
   "version": "3.11.3"
  }
 },
 "nbformat": 4,
 "nbformat_minor": 5
}
